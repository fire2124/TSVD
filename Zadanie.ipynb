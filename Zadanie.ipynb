{
 "cells": [
  {
   "cell_type": "code",
   "execution_count": 43,
   "metadata": {},
   "outputs": [
    {
     "name": "stdout",
     "output_type": "stream",
     "text": [
      "+-----------------------------+-----+-----+-----+-----+-----+-----+-----+\n",
      "|Accident_Severity_Day_of_Week|    1|    2|    3|    4|    5|    6|    7|\n",
      "+-----------------------------+-----+-----+-----+-----+-----+-----+-----+\n",
      "|                            2|23942|29487|30915|30958|31556|34732|28784|\n",
      "|                            1|  649|  542|  500|  495|  539|  741|  737|\n",
      "+-----------------------------+-----+-----+-----+-----+-----+-----+-----+\n",
      "\n"
     ]
    }
   ],
   "source": [
    "#vzorka_cela.crosstab(\"Accident_Severity\", \"Day_of_Week\").show()"
   ]
  },
  {
   "cell_type": "code",
   "execution_count": null,
   "metadata": {
    "scrolled": false
   },
   "outputs": [],
   "source": [
    "#vzorka_cela.saveAsTextFile('small_data.csv')"
   ]
  },
  {
   "cell_type": "code",
   "execution_count": null,
   "metadata": {},
   "outputs": [],
   "source": [
    "#vzorka_cela.write.format('com.databricks.spark.csv').mode('append').option(\"header\", \"true\").save('C:/Users/FIlip/Documents/TSVD/Zadanie')"
   ]
  },
  {
   "cell_type": "code",
   "execution_count": 2,
   "metadata": {},
   "outputs": [
    {
     "name": "stdout",
     "output_type": "stream",
     "text": [
      "Python version 2.7.13 (v2.7.13:a06454b1afa1, Dec 17 2016, 20:53:40) [MSC v.1500 64 bit (AMD64)]\n",
      "Spark version 2.2.0\n"
     ]
    }
   ],
   "source": [
    "import sys\n",
    "from pyspark import SparkContext\n",
    "\n",
    "sc = SparkContext(appName=\"example23\")\n",
    "\n",
    "print(u'Python version ' + sys.version)\n",
    "print(u'Spark version ' + sc.version)\n"
   ]
  },
  {
   "cell_type": "code",
   "execution_count": 3,
   "metadata": {},
   "outputs": [],
   "source": [
    "from pyspark.sql import SparkSession\n",
    "from pyspark.mllib.random import RandomRDDs\n",
    "from pyspark.sql.types import *\n",
    "from pyspark.sql import SQLContext\n",
    "import sys\n",
    "from pyspark import SparkContext\n",
    "spark = SparkSession.builder.appName(\"Zadanie\").getOrCreate()\n",
    "\n",
    "\n",
    "sqlContext = SQLContext(sc)\n",
    "\n",
    "\n"
   ]
  },
  {
   "cell_type": "code",
   "execution_count": 90,
   "metadata": {},
   "outputs": [],
   "source": [
    "# nacitanie\n",
    "data=spark.read.format('csv').options(header='true', inferSchema='true').load('C:/Users/FIlip/Documents/TSVD/Zadanie/dataset/Accidents.csv')\n",
    "data1=spark.read.format('csv').options(header='true', inferSchema='true').load('C:/Users/FIlip/Documents/TSVD/Zadanie/dataset/Vehicles.csv')\n",
    "data2=spark.read.format('csv').options(header='true', inferSchema='true').load('C:/Users/FIlip/Documents/TSVD/Zadanie/dataset/Casualties.csv')"
   ]
  },
  {
   "cell_type": "code",
   "execution_count": 91,
   "metadata": {},
   "outputs": [],
   "source": [
    "data1=data1.withColumnRenamed(\"Accident_Index\",\"ID\")\n",
    "data2=data2.withColumnRenamed(\"Accident_Index\",\"IDE\")"
   ]
  },
  {
   "cell_type": "code",
   "execution_count": 92,
   "metadata": {},
   "outputs": [
    {
     "data": {
      "text/plain": [
       "DataFrame[Accident_Index: string, Location_Easting_OSGR: int, Location_Northing_OSGR: int, Longitude: double, Latitude: double, Police_Force: int, Accident_Severity: int, Number_of_Vehicles: int, Number_of_Casualties: int, Date: string, Day_of_Week: int, Time: string, Local_Authority_(District): int, Local_Authority_(Highway): string, 1st_Road_Class: int, 1st_Road_Number: int, Road_Type: int, Speed_limit: int, Junction_Detail: int, Junction_Control: int, 2nd_Road_Class: int, 2nd_Road_Number: int, Pedestrian_Crossing-Human_Control: int, Pedestrian_Crossing-Physical_Facilities: int, Light_Conditions: int, Weather_Conditions: int, Road_Surface_Conditions: int, Special_Conditions_at_Site: int, Carriageway_Hazards: int, Urban_or_Rural_Area: int, Did_Police_Officer_Attend_Scene_of_Accident: int, LSOA_of_Accident_Location: string, Vehicle_Type: int, Towing_and_Articulation: int, Vehicle_Manoeuvre: int, Vehicle_Location-Restricted_Lane: int, Junction_Location: int, Skidding_and_Overturning: int, Hit_Object_in_Carriageway: int, Vehicle_Leaving_Carriageway: int, Hit_Object_off_Carriageway: int, 1st_Point_of_Impact: int, Was_Vehicle_Left_Hand_Drive?: int, Journey_Purpose_of_Driver: int, Sex_of_Driver: int, Age_of_Driver: int, Age_Band_of_Driver: int, Engine_Capacity_(CC): int, Propulsion_Code: int, Age_of_Vehicle: int, Driver_IMD_Decile: int, Driver_Home_Area_Type: int, Casualty_Reference: int, Casualty_Class: int, Sex_of_Casualty: int, Age_of_Casualty: int, Age_Band_of_Casualty: int, Casualty_Severity: int, Pedestrian_Location: int, Pedestrian_Movement: int, Car_Passenger: int, Bus_or_Coach_Passenger: int, Pedestrian_Road_Maintenance_Worker: int, Casualty_Type: int, Casualty_Home_Area_Type: int]"
      ]
     },
     "execution_count": 92,
     "metadata": {},
     "output_type": "execute_result"
    }
   ],
   "source": [
    "#spojenie dat a vymazanie potom tych duplikatych ID stlpcov\n",
    "merge = data.join(data1, data.Accident_Index == data1.ID)\n",
    "merge.drop(\"ID\")\n",
    "full_merge = merge.join(data2, merge.Accident_Index == data2.IDE)\n",
    "full_merge=full_merge.drop(\"IDE\")\n",
    "full_merge=full_merge.drop(\"ID\")\n",
    "full_merge=full_merge.drop(\"Vehicle_Reference\")\n",
    "\n",
    "len(full_merge.columns)\n",
    "full_merge\n",
    "#print(full_merge.show())"
   ]
  },
  {
   "cell_type": "code",
   "execution_count": 34,
   "metadata": {},
   "outputs": [],
   "source": [
    "# čiže ci cieľovy atribut je Accident_Severity a ma 3 hodnoty : 1, 2, 3 - jedna je smrtelna 2 je že važna ale nezomrel a 3 je že ľahka... tak som 3 replacol na 2 aby bolo len smrtelna\n",
    "# a niesmrtelna\n",
    "from pyspark.sql.functions import when\n",
    "newsdf = full_merge.withColumn(\"Accident_Severity\", when(full_merge[\"Accident_Severity\"] == 3, 2).otherwise(full_merge[\"Accident_Severity\"]))"
   ]
  },
  {
   "cell_type": "code",
   "execution_count": 36,
   "metadata": {},
   "outputs": [],
   "source": [
    "#cize sampling  som si vytiahol koľko je počet mrtvych a koľko počet čo prežili nehodu a podľa toho som v tokom pomere zmenšil tie data na 5%\n",
    "newsdf.registerTempTable(\"TempTable\")\n",
    "mrtvy = sqlContext.sql('SELECT * FROM TempTable WHERE Accident_Severity = 1')\n",
    "mrtvy_pocet = mrtvy.count()\n",
    "zivy = sqlContext.sql('SELECT * FROM TempTable WHERE Accident_Severity = 2')\n",
    "zivy_pocet = zivy.count()\n",
    "\n",
    "vzorka_mrtvy = mrtvy.sampleBy(\"Accident_Severity\", fractions = {1: 0.05}, seed = 0)\n",
    "vzorka_zivy = zivy.sampleBy(\"Accident_Severity\", fractions = {2: 0.05}, seed = 0)\n",
    "\n",
    "#tu ich nazad spojim a s tym datasetom treba pracovať ďalej\n",
    "vzorka_cela = vzorka_mrtvy.union(vzorka_zivy)\n"
   ]
  },
  {
   "cell_type": "code",
   "execution_count": 37,
   "metadata": {},
   "outputs": [],
   "source": [
    "#rozdelenie na trenovaciu a testovaciu \n",
    "training_data, test_data = vzorka_cela.randomSplit([0.6, 0.4], seed=123)"
   ]
  },
  {
   "cell_type": "code",
   "execution_count": 38,
   "metadata": {},
   "outputs": [
    {
     "name": "stdout",
     "output_type": "stream",
     "text": [
      "[Row(Accident_Index=u'200522DB43935', Location_Easting_OSGR=385650, Location_Northing_OSGR=273200, Longitude=-2.212142, Latitude=52.356639, Police_Force=22, Accident_Severity=1, Number_of_Vehicles=2, Number_of_Casualties=3, Date=u'03/04/2005', Day_of_Week=1, Time=u'15:41', Local_Authority_(District)=278, Local_Authority_(Highway)=u'E10000034', 1st_Road_Class=3, 1st_Road_Number=450, Road_Type=6, Speed_limit=60, Junction_Detail=0, Junction_Control=-1, 2nd_Road_Class=-1, 2nd_Road_Number=0, Pedestrian_Crossing-Human_Control=0, Pedestrian_Crossing-Physical_Facilities=0, Light_Conditions=1, Weather_Conditions=1, Road_Surface_Conditions=1, Special_Conditions_at_Site=0, Carriageway_Hazards=0, Urban_or_Rural_Area=2, Did_Police_Officer_Attend_Scene_of_Accident=1, LSOA_of_Accident_Location=u'E01032431', Vehicle_Type=9, Towing_and_Articulation=0, Vehicle_Manoeuvre=17, Vehicle_Location-Restricted_Lane=0, Junction_Location=0, Skidding_and_Overturning=0, Hit_Object_in_Carriageway=0, Vehicle_Leaving_Carriageway=0, Hit_Object_off_Carriageway=0, 1st_Point_of_Impact=1, Was_Vehicle_Left_Hand_Drive?=1, Journey_Purpose_of_Driver=15, Sex_of_Driver=1, Age_of_Driver=58, Age_Band_of_Driver=9, Engine_Capacity_(CC)=1799, Propulsion_Code=1, Age_of_Vehicle=7, Driver_IMD_Decile=1, Driver_Home_Area_Type=1, Casualty_Reference=1, Casualty_Class=1, Sex_of_Casualty=1, Age_of_Casualty=22, Age_Band_of_Casualty=5, Casualty_Severity=1, Pedestrian_Location=0, Pedestrian_Movement=0, Car_Passenger=0, Bus_or_Coach_Passenger=0, Pedestrian_Road_Maintenance_Worker=-1, Casualty_Type=4, Casualty_Home_Area_Type=1)]\n",
      "------\n"
     ]
    }
   ],
   "source": [
    "print(vzorka_cela.take(1))\n",
    "print(\"------\")"
   ]
  },
  {
   "cell_type": "code",
   "execution_count": 39,
   "metadata": {},
   "outputs": [
    {
     "name": "stdout",
     "output_type": "stream",
     "text": [
      "[Row(Accident_Index=u'200522DB43935', Location_Easting_OSGR=385650, Location_Northing_OSGR=273200, Longitude=-2.212142, Latitude=52.356639, Police_Force=22, Accident_Severity=1, Number_of_Vehicles=2, Number_of_Casualties=3, Date=u'03/04/2005', Day_of_Week=1, Time=u'15:41', Local_Authority_(District)=278, Local_Authority_(Highway)=u'E10000034', 1st_Road_Class=3, 1st_Road_Number=450, Road_Type=6, Speed_limit=60, Junction_Detail=0, Junction_Control=-1, 2nd_Road_Class=-1, 2nd_Road_Number=0, Pedestrian_Crossing-Human_Control=0, Pedestrian_Crossing-Physical_Facilities=0, Light_Conditions=1, Weather_Conditions=1, Road_Surface_Conditions=1, Special_Conditions_at_Site=0, Carriageway_Hazards=0, Urban_or_Rural_Area=2, Did_Police_Officer_Attend_Scene_of_Accident=1, LSOA_of_Accident_Location=u'E01032431', Vehicle_Type=9, Towing_and_Articulation=0, Vehicle_Manoeuvre=17, Vehicle_Location-Restricted_Lane=0, Junction_Location=0, Skidding_and_Overturning=0, Hit_Object_in_Carriageway=0, Vehicle_Leaving_Carriageway=0, Hit_Object_off_Carriageway=0, 1st_Point_of_Impact=1, Was_Vehicle_Left_Hand_Drive?=1, Journey_Purpose_of_Driver=15, Sex_of_Driver=1, Age_of_Driver=58, Age_Band_of_Driver=9, Engine_Capacity_(CC)=1799, Propulsion_Code=1, Age_of_Vehicle=7, Driver_IMD_Decile=1, Driver_Home_Area_Type=1, Casualty_Reference=1, Casualty_Class=1, Sex_of_Casualty=1, Age_of_Casualty=22, Age_Band_of_Casualty=5, Casualty_Severity=1, Pedestrian_Location=0, Pedestrian_Movement=0, Car_Passenger=0, Bus_or_Coach_Passenger=0, Pedestrian_Road_Maintenance_Worker=-1, Casualty_Type=4, Casualty_Home_Area_Type=1)]\n",
      "-----------\n"
     ]
    }
   ],
   "source": [
    "print(training_data.take(1))\n",
    "print(\"-----------\")"
   ]
  },
  {
   "cell_type": "code",
   "execution_count": 40,
   "metadata": {},
   "outputs": [
    {
     "name": "stdout",
     "output_type": "stream",
     "text": [
      "[Row(Accident_Index=u'200532D088205', Location_Easting_OSGR=498070, Location_Northing_OSGR=389760, Longitude=-0.526598, Latitude=53.395558, Police_Force=32, Accident_Severity=1, Number_of_Vehicles=2, Number_of_Casualties=9, Date=u'18/12/2005', Day_of_Week=1, Time=u'18:00', Local_Authority_(District)=356, Local_Authority_(Highway)=u'E10000019', 1st_Road_Class=3, 1st_Road_Number=631, Road_Type=6, Speed_limit=60, Junction_Detail=0, Junction_Control=-1, 2nd_Road_Class=-1, 2nd_Road_Number=0, Pedestrian_Crossing-Human_Control=0, Pedestrian_Crossing-Physical_Facilities=0, Light_Conditions=6, Weather_Conditions=1, Road_Surface_Conditions=1, Special_Conditions_at_Site=0, Carriageway_Hazards=0, Urban_or_Rural_Area=2, Did_Police_Officer_Attend_Scene_of_Accident=1, LSOA_of_Accident_Location=u'E01026411', Vehicle_Type=9, Towing_and_Articulation=0, Vehicle_Manoeuvre=16, Vehicle_Location-Restricted_Lane=0, Junction_Location=0, Skidding_and_Overturning=0, Hit_Object_in_Carriageway=0, Vehicle_Leaving_Carriageway=7, Hit_Object_off_Carriageway=0, 1st_Point_of_Impact=0, Was_Vehicle_Left_Hand_Drive?=1, Journey_Purpose_of_Driver=15, Sex_of_Driver=2, Age_of_Driver=57, Age_Band_of_Driver=9, Engine_Capacity_(CC)=1997, Propulsion_Code=2, Age_of_Vehicle=5, Driver_IMD_Decile=9, Driver_Home_Area_Type=1, Casualty_Reference=5, Casualty_Class=2, Sex_of_Casualty=1, Age_of_Casualty=22, Age_Band_of_Casualty=5, Casualty_Severity=3, Pedestrian_Location=0, Pedestrian_Movement=0, Car_Passenger=2, Bus_or_Coach_Passenger=0, Pedestrian_Road_Maintenance_Worker=-1, Casualty_Type=9, Casualty_Home_Area_Type=1)]\n"
     ]
    }
   ],
   "source": [
    "print(test_data.take(1))"
   ]
  },
  {
   "cell_type": "code",
   "execution_count": 48,
   "metadata": {},
   "outputs": [],
   "source": [
    "# #najprv si dropnem tie atributy ktore tam nechcem mat\n",
    "\n",
    "vzorka_cela   = vzorka_cela.drop(\n",
    "\t\t\t\t\t \"Local_Authority_(Highway)\",\n",
    " \t\t\t\t\t \"LSOA_of_Accident_Location\",\n",
    "\t\t\t\t\t \"Time\",\n",
    "\t\t\t\t\t \"Date\",\n",
    "\t\t\t\t\t \"Accident_Index\")"
   ]
  },
  {
   "cell_type": "code",
   "execution_count": 49,
   "metadata": {},
   "outputs": [
    {
     "name": "stdout",
     "output_type": "stream",
     "text": [
      "['Location_Easting_OSGR', 'Location_Northing_OSGR', 'Longitude', 'Latitude', 'Police_Force', 'Accident_Severity', 'Number_of_Vehicles', 'Number_of_Casualties', 'Day_of_Week', 'Local_Authority_(District)', '1st_Road_Class', '1st_Road_Number', 'Road_Type', 'Speed_limit', 'Junction_Detail', 'Junction_Control', '2nd_Road_Class', '2nd_Road_Number', 'Pedestrian_Crossing-Human_Control', 'Pedestrian_Crossing-Physical_Facilities', 'Light_Conditions', 'Weather_Conditions', 'Road_Surface_Conditions', 'Special_Conditions_at_Site', 'Carriageway_Hazards', 'Urban_or_Rural_Area', 'Did_Police_Officer_Attend_Scene_of_Accident', 'Vehicle_Type', 'Towing_and_Articulation', 'Vehicle_Manoeuvre', 'Vehicle_Location-Restricted_Lane', 'Junction_Location', 'Skidding_and_Overturning', 'Hit_Object_in_Carriageway', 'Vehicle_Leaving_Carriageway', 'Hit_Object_off_Carriageway', '1st_Point_of_Impact', 'Was_Vehicle_Left_Hand_Drive?', 'Journey_Purpose_of_Driver', 'Sex_of_Driver', 'Age_of_Driver', 'Age_Band_of_Driver', 'Engine_Capacity_(CC)', 'Propulsion_Code', 'Age_of_Vehicle', 'Driver_IMD_Decile', 'Driver_Home_Area_Type', 'Casualty_Reference', 'Casualty_Class', 'Sex_of_Casualty', 'Age_of_Casualty', 'Age_Band_of_Casualty', 'Casualty_Severity', 'Pedestrian_Location', 'Pedestrian_Movement', 'Car_Passenger', 'Bus_or_Coach_Passenger', 'Pedestrian_Road_Maintenance_Worker', 'Casualty_Type', 'Casualty_Home_Area_Type']\n"
     ]
    }
   ],
   "source": [
    "#do premennej names si ulozim mena atributov\n",
    "names = vzorka_cela.schema.names\n",
    "print(names)\n",
    "\n",
    "#print(names.count)\n",
    "#vytvorim si prazdny list correlations a do neho vo for cykle hodim korelacie kazdeho atributu s #atributom accident_severity, ale dajak to nefujguje zatial :D\n",
    "\n",
    "correlations = []\n",
    "for name in names:\n",
    "    correlations.extend([vzorka_cela.stat.corr('Accident_Severity',name)])"
   ]
  },
  {
   "cell_type": "code",
   "execution_count": 52,
   "metadata": {},
   "outputs": [
    {
     "name": "stdout",
     "output_type": "stream",
     "text": [
      "[0.014786428056535498, -0.01621638844788299, 0.014881649693193376, -0.015886097377899047, -0.03761958333347922, 1.0, -0.06369110692696994, -0.12066636855785096, -0.0031986647821147804, -0.03773716887909429, 0.05359870288344655, 0.006687154872887749, -0.0061092550690142735, -0.11069335025575402, 0.05187111068738223, 0.07414108021980693, 0.074425157616837, 0.020083848899277203, 0.006897313588318909, 0.025252285899736885, -0.04905971443910568, -0.010991163680965898, -0.004272140184665985, 0.005466851521745527, -0.010512147510305124, -0.09896599141093315, 0.05657186361984556, -0.02126233930954928, -0.02388275653412301, -0.05971450692822326, -0.008074087360074804, 0.05314717297823556, -0.051924075960947655, -0.021768269545694333, -0.06959285988824364, -0.05299760866808702, 0.02486474760408348, 0.014137892928534177, -0.0034677890495716777, 0.037079759866389436, -0.031875756336561374, -0.03147575804289195, -0.04003647188244287, -0.012458325547380389, -0.006748442902453038, -0.001221763038766325, -0.022888467298473693, -0.10583313411571113, -0.023487805802675617, 0.032998378635231945, -0.03493605456374575, -0.031038623024344222, 0.4239262407172667, -0.01595433151535659, -0.018231709284581735, -0.017612278519246485, -0.00999043313345763, 0.01152570550640136, -0.01820937085305032, -0.005298222437211171]\n"
     ]
    }
   ],
   "source": [
    "print(correlations)"
   ]
  },
  {
   "cell_type": "code",
   "execution_count": 93,
   "metadata": {},
   "outputs": [
    {
     "name": "stdout",
     "output_type": "stream",
     "text": [
      "+--------------------+--------------------+\n",
      "|                  _1|                  _2|\n",
      "+--------------------+--------------------+\n",
      "|   Accident_Severity|                 1.0|\n",
      "|  Number_of_Vehicles|-0.06369110692696994|\n",
      "|Number_of_Casualties|-0.12066636855785096|\n",
      "|      1st_Road_Class| 0.05359870288344655|\n",
      "|         Speed_limit|-0.11069335025575402|\n",
      "|     Junction_Detail| 0.05187111068738223|\n",
      "|    Junction_Control| 0.07414108021980693|\n",
      "|      2nd_Road_Class|   0.074425157616837|\n",
      "| Urban_or_Rural_Area|-0.09896599141093315|\n",
      "|Did_Police_Office...| 0.05657186361984556|\n",
      "|   Vehicle_Manoeuvre|-0.05971450692822326|\n",
      "|   Junction_Location| 0.05314717297823556|\n",
      "|Skidding_and_Over...|-0.05192407596094...|\n",
      "|Vehicle_Leaving_C...|-0.06959285988824364|\n",
      "|Hit_Object_off_Ca...|-0.05299760866808702|\n",
      "|  Casualty_Reference|-0.10583313411571113|\n",
      "|   Casualty_Severity|  0.4239262407172667|\n",
      "+--------------------+--------------------+\n",
      "\n"
     ]
    }
   ],
   "source": [
    "names = vzorka_cela.schema.names\n",
    "#t = zip(names,correlations)\n",
    "#print(t)\n",
    "#print(\"-------------------\")\n",
    "tt = spark.createDataFrame(t)\n",
    "#tt.show()\n",
    "\n",
    "tt.registerTempTable(\"TempTable\")\n",
    "atributy_table = sqlContext.sql('SELECT * FROM TempTable WHERE _2 > 0.05 OR _2 <-0.05')\n",
    "atributy = atributy_table.select(\"_2\")\n",
    "atributy_table.show()"
   ]
  },
  {
   "cell_type": "code",
   "execution_count": 94,
   "metadata": {},
   "outputs": [
    {
     "name": "stdout",
     "output_type": "stream",
     "text": [
      "[Row(_1=u'Accident_Severity', _2=1.0), Row(_1=u'Number_of_Vehicles', _2=-0.06369110692696994), Row(_1=u'Number_of_Casualties', _2=-0.12066636855785096), Row(_1=u'1st_Road_Class', _2=0.05359870288344655), Row(_1=u'Speed_limit', _2=-0.11069335025575402), Row(_1=u'Junction_Detail', _2=0.05187111068738223), Row(_1=u'Junction_Control', _2=0.07414108021980693), Row(_1=u'2nd_Road_Class', _2=0.074425157616837), Row(_1=u'Urban_or_Rural_Area', _2=-0.09896599141093315), Row(_1=u'Did_Police_Officer_Attend_Scene_of_Accident', _2=0.05657186361984556), Row(_1=u'Vehicle_Manoeuvre', _2=-0.05971450692822326), Row(_1=u'Junction_Location', _2=0.05314717297823556), Row(_1=u'Skidding_and_Overturning', _2=-0.051924075960947655), Row(_1=u'Vehicle_Leaving_Carriageway', _2=-0.06959285988824364), Row(_1=u'Hit_Object_off_Carriageway', _2=-0.05299760866808702), Row(_1=u'Casualty_Reference', _2=-0.10583313411571113), Row(_1=u'Casualty_Severity', _2=0.4239262407172667)]\n"
     ]
    }
   ],
   "source": [
    "cast = atributy_table.take(100)\n",
    "print(cast)"
   ]
  },
  {
   "cell_type": "code",
   "execution_count": null,
   "metadata": {},
   "outputs": [],
   "source": [
    "import numpy as np \n",
    "import pandas as pd \n",
    "import seaborn as sns \n",
    "import matplotlib.pyplot as plt \n",
    "from scipy.stats import norm \n",
    "\n",
    "f, ax = plt.subplots(figsize =(9, 8)) \n",
    "cast2.heatmap(corrmat, ax = ax, cmap =\"YlGnBu\", linewidths = 0.1) "
   ]
  },
  {
   "cell_type": "code",
   "execution_count": null,
   "metadata": {},
   "outputs": [],
   "source": []
  }
 ],
 "metadata": {
  "kernelspec": {
   "display_name": "Python 2",
   "language": "python",
   "name": "python2"
  },
  "language_info": {
   "codemirror_mode": {
    "name": "ipython",
    "version": 2
   },
   "file_extension": ".py",
   "mimetype": "text/x-python",
   "name": "python",
   "nbconvert_exporter": "python",
   "pygments_lexer": "ipython2",
   "version": "2.7.13"
  }
 },
 "nbformat": 4,
 "nbformat_minor": 2
}
